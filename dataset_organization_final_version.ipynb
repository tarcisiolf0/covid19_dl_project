{
 "cells": [
  {
   "cell_type": "code",
   "execution_count": 35,
   "id": "73ddcf27",
   "metadata": {},
   "outputs": [],
   "source": [
    "import pandas as pd\n",
    "import numpy as np\n",
    "import cv2\n",
    "import os\n",
    "import matplotlib.pyplot as plt"
   ]
  },
  {
   "cell_type": "code",
   "execution_count": 3,
   "id": "c2d667f9",
   "metadata": {},
   "outputs": [
    {
     "name": "stdout",
     "output_type": "stream",
     "text": [
      "Current working directory: \t /home/tarcisio/Downloads/codes_covid\n",
      "Current working directory: \t /home/tarcisio/Downloads/dataset_dcm\n"
     ]
    }
   ],
   "source": [
    "print(\"Current working directory: \\t\", os.getcwd())\n",
    "os.chdir(\"/home/tarcisio/Downloads/dataset_dcm\")\n",
    "print(\"Current working directory: \\t\", os.getcwd())"
   ]
  },
  {
   "cell_type": "markdown",
   "id": "40e25a1f",
   "metadata": {},
   "source": [
    "# Leitura dos metadados do dataset do Kaggle"
   ]
  },
  {
   "cell_type": "markdown",
   "id": "5cd47dc2",
   "metadata": {},
   "source": [
    "Os arquivos \"train_image_level\" e \"train_study_level\" serão transformados em dataframe para serem feitas modificações posteriores"
   ]
  },
  {
   "cell_type": "code",
   "execution_count": 4,
   "id": "bc68043c",
   "metadata": {},
   "outputs": [],
   "source": [
    "train_image_level = pd.read_csv('train_image_level.csv')\n",
    "train_study_level = pd.read_csv('train_study_level.csv')"
   ]
  },
  {
   "cell_type": "markdown",
   "id": "2509244a",
   "metadata": {},
   "source": [
    "# Visualizando os DataFrames"
   ]
  },
  {
   "cell_type": "code",
   "execution_count": 5,
   "id": "c46301b3",
   "metadata": {},
   "outputs": [
    {
     "data": {
      "text/html": [
       "<div>\n",
       "<style scoped>\n",
       "    .dataframe tbody tr th:only-of-type {\n",
       "        vertical-align: middle;\n",
       "    }\n",
       "\n",
       "    .dataframe tbody tr th {\n",
       "        vertical-align: top;\n",
       "    }\n",
       "\n",
       "    .dataframe thead th {\n",
       "        text-align: right;\n",
       "    }\n",
       "</style>\n",
       "<table border=\"1\" class=\"dataframe\">\n",
       "  <thead>\n",
       "    <tr style=\"text-align: right;\">\n",
       "      <th></th>\n",
       "      <th>id</th>\n",
       "      <th>boxes</th>\n",
       "      <th>label</th>\n",
       "      <th>StudyInstanceUID</th>\n",
       "    </tr>\n",
       "  </thead>\n",
       "  <tbody>\n",
       "    <tr>\n",
       "      <th>0</th>\n",
       "      <td>000a312787f2_image</td>\n",
       "      <td>[{'x': 789.28836, 'y': 582.43035, 'width': 102...</td>\n",
       "      <td>opacity 1 789.28836 582.43035 1815.94498 2499....</td>\n",
       "      <td>5776db0cec75</td>\n",
       "    </tr>\n",
       "    <tr>\n",
       "      <th>1</th>\n",
       "      <td>000c3a3f293f_image</td>\n",
       "      <td>NaN</td>\n",
       "      <td>none 1 0 0 1 1</td>\n",
       "      <td>ff0879eb20ed</td>\n",
       "    </tr>\n",
       "    <tr>\n",
       "      <th>2</th>\n",
       "      <td>0012ff7358bc_image</td>\n",
       "      <td>[{'x': 677.42216, 'y': 197.97662, 'width': 867...</td>\n",
       "      <td>opacity 1 677.42216 197.97662 1545.21983 1197....</td>\n",
       "      <td>9d514ce429a7</td>\n",
       "    </tr>\n",
       "    <tr>\n",
       "      <th>3</th>\n",
       "      <td>001398f4ff4f_image</td>\n",
       "      <td>[{'x': 2729, 'y': 2181.33331, 'width': 948.000...</td>\n",
       "      <td>opacity 1 2729 2181.33331 3677.00012 2785.33331</td>\n",
       "      <td>28dddc8559b2</td>\n",
       "    </tr>\n",
       "    <tr>\n",
       "      <th>4</th>\n",
       "      <td>001bd15d1891_image</td>\n",
       "      <td>[{'x': 623.23328, 'y': 1050, 'width': 714, 'he...</td>\n",
       "      <td>opacity 1 623.23328 1050 1337.23328 2156 opaci...</td>\n",
       "      <td>dfd9fdd85a3e</td>\n",
       "    </tr>\n",
       "    <tr>\n",
       "      <th>...</th>\n",
       "      <td>...</td>\n",
       "      <td>...</td>\n",
       "      <td>...</td>\n",
       "      <td>...</td>\n",
       "    </tr>\n",
       "    <tr>\n",
       "      <th>6329</th>\n",
       "      <td>ffcc6edd9445_image</td>\n",
       "      <td>NaN</td>\n",
       "      <td>none 1 0 0 1 1</td>\n",
       "      <td>7e6c68462e06</td>\n",
       "    </tr>\n",
       "    <tr>\n",
       "      <th>6330</th>\n",
       "      <td>ffd91a2c4ca0_image</td>\n",
       "      <td>NaN</td>\n",
       "      <td>none 1 0 0 1 1</td>\n",
       "      <td>8332bdaddb6e</td>\n",
       "    </tr>\n",
       "    <tr>\n",
       "      <th>6331</th>\n",
       "      <td>ffd9b6cf2961_image</td>\n",
       "      <td>[{'x': 2197.38566, 'y': 841.07361, 'width': 31...</td>\n",
       "      <td>opacity 1 2197.38566 841.07361 2513.80265 1292...</td>\n",
       "      <td>7eed9af03814</td>\n",
       "    </tr>\n",
       "    <tr>\n",
       "      <th>6332</th>\n",
       "      <td>ffdc682f7680_image</td>\n",
       "      <td>[{'x': 2729.27083, 'y': 332.26044, 'width': 14...</td>\n",
       "      <td>opacity 1 2729.27083 332.26044 4225.52099 2936...</td>\n",
       "      <td>a0cb0b96fb3d</td>\n",
       "    </tr>\n",
       "    <tr>\n",
       "      <th>6333</th>\n",
       "      <td>ffe942c8655f_image</td>\n",
       "      <td>[{'x': 208.86463, 'y': 91.53448, 'width': 450....</td>\n",
       "      <td>opacity 1 208.86463 91.53448 659.8321 719.5892...</td>\n",
       "      <td>7d82d53204b8</td>\n",
       "    </tr>\n",
       "  </tbody>\n",
       "</table>\n",
       "<p>6334 rows × 4 columns</p>\n",
       "</div>"
      ],
      "text/plain": [
       "                      id                                              boxes  \\\n",
       "0     000a312787f2_image  [{'x': 789.28836, 'y': 582.43035, 'width': 102...   \n",
       "1     000c3a3f293f_image                                                NaN   \n",
       "2     0012ff7358bc_image  [{'x': 677.42216, 'y': 197.97662, 'width': 867...   \n",
       "3     001398f4ff4f_image  [{'x': 2729, 'y': 2181.33331, 'width': 948.000...   \n",
       "4     001bd15d1891_image  [{'x': 623.23328, 'y': 1050, 'width': 714, 'he...   \n",
       "...                  ...                                                ...   \n",
       "6329  ffcc6edd9445_image                                                NaN   \n",
       "6330  ffd91a2c4ca0_image                                                NaN   \n",
       "6331  ffd9b6cf2961_image  [{'x': 2197.38566, 'y': 841.07361, 'width': 31...   \n",
       "6332  ffdc682f7680_image  [{'x': 2729.27083, 'y': 332.26044, 'width': 14...   \n",
       "6333  ffe942c8655f_image  [{'x': 208.86463, 'y': 91.53448, 'width': 450....   \n",
       "\n",
       "                                                  label StudyInstanceUID  \n",
       "0     opacity 1 789.28836 582.43035 1815.94498 2499....     5776db0cec75  \n",
       "1                                        none 1 0 0 1 1     ff0879eb20ed  \n",
       "2     opacity 1 677.42216 197.97662 1545.21983 1197....     9d514ce429a7  \n",
       "3       opacity 1 2729 2181.33331 3677.00012 2785.33331     28dddc8559b2  \n",
       "4     opacity 1 623.23328 1050 1337.23328 2156 opaci...     dfd9fdd85a3e  \n",
       "...                                                 ...              ...  \n",
       "6329                                     none 1 0 0 1 1     7e6c68462e06  \n",
       "6330                                     none 1 0 0 1 1     8332bdaddb6e  \n",
       "6331  opacity 1 2197.38566 841.07361 2513.80265 1292...     7eed9af03814  \n",
       "6332  opacity 1 2729.27083 332.26044 4225.52099 2936...     a0cb0b96fb3d  \n",
       "6333  opacity 1 208.86463 91.53448 659.8321 719.5892...     7d82d53204b8  \n",
       "\n",
       "[6334 rows x 4 columns]"
      ]
     },
     "execution_count": 5,
     "metadata": {},
     "output_type": "execute_result"
    }
   ],
   "source": [
    "train_image_level"
   ]
  },
  {
   "cell_type": "code",
   "execution_count": 6,
   "id": "97db5de5",
   "metadata": {},
   "outputs": [
    {
     "data": {
      "text/html": [
       "<div>\n",
       "<style scoped>\n",
       "    .dataframe tbody tr th:only-of-type {\n",
       "        vertical-align: middle;\n",
       "    }\n",
       "\n",
       "    .dataframe tbody tr th {\n",
       "        vertical-align: top;\n",
       "    }\n",
       "\n",
       "    .dataframe thead th {\n",
       "        text-align: right;\n",
       "    }\n",
       "</style>\n",
       "<table border=\"1\" class=\"dataframe\">\n",
       "  <thead>\n",
       "    <tr style=\"text-align: right;\">\n",
       "      <th></th>\n",
       "      <th>id</th>\n",
       "      <th>Negative for Pneumonia</th>\n",
       "      <th>Typical Appearance</th>\n",
       "      <th>Indeterminate Appearance</th>\n",
       "      <th>Atypical Appearance</th>\n",
       "    </tr>\n",
       "  </thead>\n",
       "  <tbody>\n",
       "    <tr>\n",
       "      <th>0</th>\n",
       "      <td>00086460a852_study</td>\n",
       "      <td>0</td>\n",
       "      <td>1</td>\n",
       "      <td>0</td>\n",
       "      <td>0</td>\n",
       "    </tr>\n",
       "    <tr>\n",
       "      <th>1</th>\n",
       "      <td>000c9c05fd14_study</td>\n",
       "      <td>0</td>\n",
       "      <td>0</td>\n",
       "      <td>0</td>\n",
       "      <td>1</td>\n",
       "    </tr>\n",
       "    <tr>\n",
       "      <th>2</th>\n",
       "      <td>00292f8c37bd_study</td>\n",
       "      <td>1</td>\n",
       "      <td>0</td>\n",
       "      <td>0</td>\n",
       "      <td>0</td>\n",
       "    </tr>\n",
       "    <tr>\n",
       "      <th>3</th>\n",
       "      <td>005057b3f880_study</td>\n",
       "      <td>1</td>\n",
       "      <td>0</td>\n",
       "      <td>0</td>\n",
       "      <td>0</td>\n",
       "    </tr>\n",
       "    <tr>\n",
       "      <th>4</th>\n",
       "      <td>0051d9b12e72_study</td>\n",
       "      <td>0</td>\n",
       "      <td>0</td>\n",
       "      <td>0</td>\n",
       "      <td>1</td>\n",
       "    </tr>\n",
       "    <tr>\n",
       "      <th>...</th>\n",
       "      <td>...</td>\n",
       "      <td>...</td>\n",
       "      <td>...</td>\n",
       "      <td>...</td>\n",
       "      <td>...</td>\n",
       "    </tr>\n",
       "    <tr>\n",
       "      <th>6049</th>\n",
       "      <td>ffcb4630f46f_study</td>\n",
       "      <td>0</td>\n",
       "      <td>1</td>\n",
       "      <td>0</td>\n",
       "      <td>0</td>\n",
       "    </tr>\n",
       "    <tr>\n",
       "      <th>6050</th>\n",
       "      <td>ffe4d6e8fbb0_study</td>\n",
       "      <td>0</td>\n",
       "      <td>1</td>\n",
       "      <td>0</td>\n",
       "      <td>0</td>\n",
       "    </tr>\n",
       "    <tr>\n",
       "      <th>6051</th>\n",
       "      <td>ffe94fcb14fa_study</td>\n",
       "      <td>0</td>\n",
       "      <td>1</td>\n",
       "      <td>0</td>\n",
       "      <td>0</td>\n",
       "    </tr>\n",
       "    <tr>\n",
       "      <th>6052</th>\n",
       "      <td>ffebf1ef4a9c_study</td>\n",
       "      <td>0</td>\n",
       "      <td>1</td>\n",
       "      <td>0</td>\n",
       "      <td>0</td>\n",
       "    </tr>\n",
       "    <tr>\n",
       "      <th>6053</th>\n",
       "      <td>fff649d65f62_study</td>\n",
       "      <td>0</td>\n",
       "      <td>1</td>\n",
       "      <td>0</td>\n",
       "      <td>0</td>\n",
       "    </tr>\n",
       "  </tbody>\n",
       "</table>\n",
       "<p>6054 rows × 5 columns</p>\n",
       "</div>"
      ],
      "text/plain": [
       "                      id  Negative for Pneumonia  Typical Appearance  \\\n",
       "0     00086460a852_study                       0                   1   \n",
       "1     000c9c05fd14_study                       0                   0   \n",
       "2     00292f8c37bd_study                       1                   0   \n",
       "3     005057b3f880_study                       1                   0   \n",
       "4     0051d9b12e72_study                       0                   0   \n",
       "...                  ...                     ...                 ...   \n",
       "6049  ffcb4630f46f_study                       0                   1   \n",
       "6050  ffe4d6e8fbb0_study                       0                   1   \n",
       "6051  ffe94fcb14fa_study                       0                   1   \n",
       "6052  ffebf1ef4a9c_study                       0                   1   \n",
       "6053  fff649d65f62_study                       0                   1   \n",
       "\n",
       "      Indeterminate Appearance  Atypical Appearance  \n",
       "0                            0                    0  \n",
       "1                            0                    1  \n",
       "2                            0                    0  \n",
       "3                            0                    0  \n",
       "4                            0                    1  \n",
       "...                        ...                  ...  \n",
       "6049                         0                    0  \n",
       "6050                         0                    0  \n",
       "6051                         0                    0  \n",
       "6052                         0                    0  \n",
       "6053                         0                    0  \n",
       "\n",
       "[6054 rows x 5 columns]"
      ]
     },
     "execution_count": 6,
     "metadata": {},
     "output_type": "execute_result"
    }
   ],
   "source": [
    "train_study_level"
   ]
  },
  {
   "cell_type": "markdown",
   "id": "31dcecba",
   "metadata": {},
   "source": [
    "Substituindo o nome do arquivo \"arquivo_study\" na coluna id do dataframe por: \"arquivo.png\""
   ]
  },
  {
   "cell_type": "code",
   "execution_count": 7,
   "id": "542cf984",
   "metadata": {},
   "outputs": [
    {
     "data": {
      "text/html": [
       "<div>\n",
       "<style scoped>\n",
       "    .dataframe tbody tr th:only-of-type {\n",
       "        vertical-align: middle;\n",
       "    }\n",
       "\n",
       "    .dataframe tbody tr th {\n",
       "        vertical-align: top;\n",
       "    }\n",
       "\n",
       "    .dataframe thead th {\n",
       "        text-align: right;\n",
       "    }\n",
       "</style>\n",
       "<table border=\"1\" class=\"dataframe\">\n",
       "  <thead>\n",
       "    <tr style=\"text-align: right;\">\n",
       "      <th></th>\n",
       "      <th>id</th>\n",
       "      <th>boxes</th>\n",
       "      <th>label</th>\n",
       "      <th>StudyInstanceUID</th>\n",
       "    </tr>\n",
       "  </thead>\n",
       "  <tbody>\n",
       "    <tr>\n",
       "      <th>0</th>\n",
       "      <td>000a312787f2.png</td>\n",
       "      <td>[{'x': 789.28836, 'y': 582.43035, 'width': 102...</td>\n",
       "      <td>opacity 1 789.28836 582.43035 1815.94498 2499....</td>\n",
       "      <td>5776db0cec75</td>\n",
       "    </tr>\n",
       "    <tr>\n",
       "      <th>1</th>\n",
       "      <td>000c3a3f293f.png</td>\n",
       "      <td>NaN</td>\n",
       "      <td>none 1 0 0 1 1</td>\n",
       "      <td>ff0879eb20ed</td>\n",
       "    </tr>\n",
       "    <tr>\n",
       "      <th>2</th>\n",
       "      <td>0012ff7358bc.png</td>\n",
       "      <td>[{'x': 677.42216, 'y': 197.97662, 'width': 867...</td>\n",
       "      <td>opacity 1 677.42216 197.97662 1545.21983 1197....</td>\n",
       "      <td>9d514ce429a7</td>\n",
       "    </tr>\n",
       "    <tr>\n",
       "      <th>3</th>\n",
       "      <td>001398f4ff4f.png</td>\n",
       "      <td>[{'x': 2729, 'y': 2181.33331, 'width': 948.000...</td>\n",
       "      <td>opacity 1 2729 2181.33331 3677.00012 2785.33331</td>\n",
       "      <td>28dddc8559b2</td>\n",
       "    </tr>\n",
       "    <tr>\n",
       "      <th>4</th>\n",
       "      <td>001bd15d1891.png</td>\n",
       "      <td>[{'x': 623.23328, 'y': 1050, 'width': 714, 'he...</td>\n",
       "      <td>opacity 1 623.23328 1050 1337.23328 2156 opaci...</td>\n",
       "      <td>dfd9fdd85a3e</td>\n",
       "    </tr>\n",
       "  </tbody>\n",
       "</table>\n",
       "</div>"
      ],
      "text/plain": [
       "                 id                                              boxes  \\\n",
       "0  000a312787f2.png  [{'x': 789.28836, 'y': 582.43035, 'width': 102...   \n",
       "1  000c3a3f293f.png                                                NaN   \n",
       "2  0012ff7358bc.png  [{'x': 677.42216, 'y': 197.97662, 'width': 867...   \n",
       "3  001398f4ff4f.png  [{'x': 2729, 'y': 2181.33331, 'width': 948.000...   \n",
       "4  001bd15d1891.png  [{'x': 623.23328, 'y': 1050, 'width': 714, 'he...   \n",
       "\n",
       "                                               label StudyInstanceUID  \n",
       "0  opacity 1 789.28836 582.43035 1815.94498 2499....     5776db0cec75  \n",
       "1                                     none 1 0 0 1 1     ff0879eb20ed  \n",
       "2  opacity 1 677.42216 197.97662 1545.21983 1197....     9d514ce429a7  \n",
       "3    opacity 1 2729 2181.33331 3677.00012 2785.33331     28dddc8559b2  \n",
       "4  opacity 1 623.23328 1050 1337.23328 2156 opaci...     dfd9fdd85a3e  "
      ]
     },
     "execution_count": 7,
     "metadata": {},
     "output_type": "execute_result"
    }
   ],
   "source": [
    "train_image_level['id'] = train_image_level['id'].apply(lambda x: f'{x[:12]}'+ \".png\")\n",
    "train_image_level.head()"
   ]
  },
  {
   "cell_type": "code",
   "execution_count": 8,
   "id": "15ee8555",
   "metadata": {},
   "outputs": [
    {
     "data": {
      "text/html": [
       "<div>\n",
       "<style scoped>\n",
       "    .dataframe tbody tr th:only-of-type {\n",
       "        vertical-align: middle;\n",
       "    }\n",
       "\n",
       "    .dataframe tbody tr th {\n",
       "        vertical-align: top;\n",
       "    }\n",
       "\n",
       "    .dataframe thead th {\n",
       "        text-align: right;\n",
       "    }\n",
       "</style>\n",
       "<table border=\"1\" class=\"dataframe\">\n",
       "  <thead>\n",
       "    <tr style=\"text-align: right;\">\n",
       "      <th></th>\n",
       "      <th>id</th>\n",
       "      <th>Negative for Pneumonia</th>\n",
       "      <th>Typical Appearance</th>\n",
       "      <th>Indeterminate Appearance</th>\n",
       "      <th>Atypical Appearance</th>\n",
       "    </tr>\n",
       "  </thead>\n",
       "  <tbody>\n",
       "    <tr>\n",
       "      <th>0</th>\n",
       "      <td>00086460a852_study</td>\n",
       "      <td>0</td>\n",
       "      <td>1</td>\n",
       "      <td>0</td>\n",
       "      <td>0</td>\n",
       "    </tr>\n",
       "    <tr>\n",
       "      <th>1</th>\n",
       "      <td>000c9c05fd14_study</td>\n",
       "      <td>0</td>\n",
       "      <td>0</td>\n",
       "      <td>0</td>\n",
       "      <td>1</td>\n",
       "    </tr>\n",
       "    <tr>\n",
       "      <th>2</th>\n",
       "      <td>00292f8c37bd_study</td>\n",
       "      <td>1</td>\n",
       "      <td>0</td>\n",
       "      <td>0</td>\n",
       "      <td>0</td>\n",
       "    </tr>\n",
       "    <tr>\n",
       "      <th>3</th>\n",
       "      <td>005057b3f880_study</td>\n",
       "      <td>1</td>\n",
       "      <td>0</td>\n",
       "      <td>0</td>\n",
       "      <td>0</td>\n",
       "    </tr>\n",
       "    <tr>\n",
       "      <th>4</th>\n",
       "      <td>0051d9b12e72_study</td>\n",
       "      <td>0</td>\n",
       "      <td>0</td>\n",
       "      <td>0</td>\n",
       "      <td>1</td>\n",
       "    </tr>\n",
       "  </tbody>\n",
       "</table>\n",
       "</div>"
      ],
      "text/plain": [
       "                   id  Negative for Pneumonia  Typical Appearance  \\\n",
       "0  00086460a852_study                       0                   1   \n",
       "1  000c9c05fd14_study                       0                   0   \n",
       "2  00292f8c37bd_study                       1                   0   \n",
       "3  005057b3f880_study                       1                   0   \n",
       "4  0051d9b12e72_study                       0                   0   \n",
       "\n",
       "   Indeterminate Appearance  Atypical Appearance  \n",
       "0                         0                    0  \n",
       "1                         0                    1  \n",
       "2                         0                    0  \n",
       "3                         0                    0  \n",
       "4                         0                    1  "
      ]
     },
     "execution_count": 8,
     "metadata": {},
     "output_type": "execute_result"
    }
   ],
   "source": [
    "train_study_level.head()"
   ]
  },
  {
   "cell_type": "markdown",
   "id": "07f757f4",
   "metadata": {},
   "source": [
    "Vamos usar o 'StudyInstanceUID' para \"JUNTAR\" o train_study_level + train_image_level, o que queremos é pegar o filename das imagens para organizar"
   ]
  },
  {
   "cell_type": "markdown",
   "id": "6e199a07",
   "metadata": {},
   "source": [
    "### 1º Passo: Renomear o nome da coluna id para StudyInstanceUID"
   ]
  },
  {
   "cell_type": "code",
   "execution_count": 9,
   "id": "d65d6ebd",
   "metadata": {},
   "outputs": [
    {
     "data": {
      "text/html": [
       "<div>\n",
       "<style scoped>\n",
       "    .dataframe tbody tr th:only-of-type {\n",
       "        vertical-align: middle;\n",
       "    }\n",
       "\n",
       "    .dataframe tbody tr th {\n",
       "        vertical-align: top;\n",
       "    }\n",
       "\n",
       "    .dataframe thead th {\n",
       "        text-align: right;\n",
       "    }\n",
       "</style>\n",
       "<table border=\"1\" class=\"dataframe\">\n",
       "  <thead>\n",
       "    <tr style=\"text-align: right;\">\n",
       "      <th></th>\n",
       "      <th>StudyInstanceUID</th>\n",
       "      <th>Negative for Pneumonia</th>\n",
       "      <th>Typical Appearance</th>\n",
       "      <th>Indeterminate Appearance</th>\n",
       "      <th>Atypical Appearance</th>\n",
       "    </tr>\n",
       "  </thead>\n",
       "  <tbody>\n",
       "    <tr>\n",
       "      <th>0</th>\n",
       "      <td>00086460a852_study</td>\n",
       "      <td>0</td>\n",
       "      <td>1</td>\n",
       "      <td>0</td>\n",
       "      <td>0</td>\n",
       "    </tr>\n",
       "    <tr>\n",
       "      <th>1</th>\n",
       "      <td>000c9c05fd14_study</td>\n",
       "      <td>0</td>\n",
       "      <td>0</td>\n",
       "      <td>0</td>\n",
       "      <td>1</td>\n",
       "    </tr>\n",
       "    <tr>\n",
       "      <th>2</th>\n",
       "      <td>00292f8c37bd_study</td>\n",
       "      <td>1</td>\n",
       "      <td>0</td>\n",
       "      <td>0</td>\n",
       "      <td>0</td>\n",
       "    </tr>\n",
       "    <tr>\n",
       "      <th>3</th>\n",
       "      <td>005057b3f880_study</td>\n",
       "      <td>1</td>\n",
       "      <td>0</td>\n",
       "      <td>0</td>\n",
       "      <td>0</td>\n",
       "    </tr>\n",
       "    <tr>\n",
       "      <th>4</th>\n",
       "      <td>0051d9b12e72_study</td>\n",
       "      <td>0</td>\n",
       "      <td>0</td>\n",
       "      <td>0</td>\n",
       "      <td>1</td>\n",
       "    </tr>\n",
       "  </tbody>\n",
       "</table>\n",
       "</div>"
      ],
      "text/plain": [
       "     StudyInstanceUID  Negative for Pneumonia  Typical Appearance  \\\n",
       "0  00086460a852_study                       0                   1   \n",
       "1  000c9c05fd14_study                       0                   0   \n",
       "2  00292f8c37bd_study                       1                   0   \n",
       "3  005057b3f880_study                       1                   0   \n",
       "4  0051d9b12e72_study                       0                   0   \n",
       "\n",
       "   Indeterminate Appearance  Atypical Appearance  \n",
       "0                         0                    0  \n",
       "1                         0                    1  \n",
       "2                         0                    0  \n",
       "3                         0                    0  \n",
       "4                         0                    1  "
      ]
     },
     "execution_count": 9,
     "metadata": {},
     "output_type": "execute_result"
    }
   ],
   "source": [
    "train_study_level.rename(columns = {'id':'StudyInstanceUID'}, inplace=True)\n",
    "train_study_level.head()"
   ]
  },
  {
   "cell_type": "markdown",
   "id": "5f5aab1b",
   "metadata": {},
   "source": [
    "### 2º Passo: Remover o \"_study\" dos itens da coluna 'StudyInstanceUID'"
   ]
  },
  {
   "cell_type": "code",
   "execution_count": 10,
   "id": "4769e2d6",
   "metadata": {},
   "outputs": [
    {
     "data": {
      "text/html": [
       "<div>\n",
       "<style scoped>\n",
       "    .dataframe tbody tr th:only-of-type {\n",
       "        vertical-align: middle;\n",
       "    }\n",
       "\n",
       "    .dataframe tbody tr th {\n",
       "        vertical-align: top;\n",
       "    }\n",
       "\n",
       "    .dataframe thead th {\n",
       "        text-align: right;\n",
       "    }\n",
       "</style>\n",
       "<table border=\"1\" class=\"dataframe\">\n",
       "  <thead>\n",
       "    <tr style=\"text-align: right;\">\n",
       "      <th></th>\n",
       "      <th>StudyInstanceUID</th>\n",
       "      <th>Negative for Pneumonia</th>\n",
       "      <th>Typical Appearance</th>\n",
       "      <th>Indeterminate Appearance</th>\n",
       "      <th>Atypical Appearance</th>\n",
       "    </tr>\n",
       "  </thead>\n",
       "  <tbody>\n",
       "    <tr>\n",
       "      <th>0</th>\n",
       "      <td>00086460a852</td>\n",
       "      <td>0</td>\n",
       "      <td>1</td>\n",
       "      <td>0</td>\n",
       "      <td>0</td>\n",
       "    </tr>\n",
       "    <tr>\n",
       "      <th>1</th>\n",
       "      <td>000c9c05fd14</td>\n",
       "      <td>0</td>\n",
       "      <td>0</td>\n",
       "      <td>0</td>\n",
       "      <td>1</td>\n",
       "    </tr>\n",
       "    <tr>\n",
       "      <th>2</th>\n",
       "      <td>00292f8c37bd</td>\n",
       "      <td>1</td>\n",
       "      <td>0</td>\n",
       "      <td>0</td>\n",
       "      <td>0</td>\n",
       "    </tr>\n",
       "    <tr>\n",
       "      <th>3</th>\n",
       "      <td>005057b3f880</td>\n",
       "      <td>1</td>\n",
       "      <td>0</td>\n",
       "      <td>0</td>\n",
       "      <td>0</td>\n",
       "    </tr>\n",
       "    <tr>\n",
       "      <th>4</th>\n",
       "      <td>0051d9b12e72</td>\n",
       "      <td>0</td>\n",
       "      <td>0</td>\n",
       "      <td>0</td>\n",
       "      <td>1</td>\n",
       "    </tr>\n",
       "  </tbody>\n",
       "</table>\n",
       "</div>"
      ],
      "text/plain": [
       "  StudyInstanceUID  Negative for Pneumonia  Typical Appearance  \\\n",
       "0     00086460a852                       0                   1   \n",
       "1     000c9c05fd14                       0                   0   \n",
       "2     00292f8c37bd                       1                   0   \n",
       "3     005057b3f880                       1                   0   \n",
       "4     0051d9b12e72                       0                   0   \n",
       "\n",
       "   Indeterminate Appearance  Atypical Appearance  \n",
       "0                         0                    0  \n",
       "1                         0                    1  \n",
       "2                         0                    0  \n",
       "3                         0                    0  \n",
       "4                         0                    1  "
      ]
     },
     "execution_count": 10,
     "metadata": {},
     "output_type": "execute_result"
    }
   ],
   "source": [
    "train_study_level['StudyInstanceUID'] = train_study_level['StudyInstanceUID'].apply(lambda x: f'{x[:12]}')\n",
    "train_study_level.head()"
   ]
  },
  {
   "cell_type": "markdown",
   "id": "e19f1cc2",
   "metadata": {},
   "source": [
    "### 3º Passo: Juntar os dois DataFrames \"train_image_level\" e \"train_study_level\""
   ]
  },
  {
   "cell_type": "code",
   "execution_count": 11,
   "id": "7b117766",
   "metadata": {},
   "outputs": [
    {
     "data": {
      "text/html": [
       "<div>\n",
       "<style scoped>\n",
       "    .dataframe tbody tr th:only-of-type {\n",
       "        vertical-align: middle;\n",
       "    }\n",
       "\n",
       "    .dataframe tbody tr th {\n",
       "        vertical-align: top;\n",
       "    }\n",
       "\n",
       "    .dataframe thead th {\n",
       "        text-align: right;\n",
       "    }\n",
       "</style>\n",
       "<table border=\"1\" class=\"dataframe\">\n",
       "  <thead>\n",
       "    <tr style=\"text-align: right;\">\n",
       "      <th></th>\n",
       "      <th>id</th>\n",
       "      <th>boxes</th>\n",
       "      <th>label</th>\n",
       "      <th>StudyInstanceUID</th>\n",
       "      <th>Negative for Pneumonia</th>\n",
       "      <th>Typical Appearance</th>\n",
       "      <th>Indeterminate Appearance</th>\n",
       "      <th>Atypical Appearance</th>\n",
       "    </tr>\n",
       "  </thead>\n",
       "  <tbody>\n",
       "    <tr>\n",
       "      <th>0</th>\n",
       "      <td>000a312787f2.png</td>\n",
       "      <td>[{'x': 789.28836, 'y': 582.43035, 'width': 102...</td>\n",
       "      <td>opacity 1 789.28836 582.43035 1815.94498 2499....</td>\n",
       "      <td>5776db0cec75</td>\n",
       "      <td>0</td>\n",
       "      <td>1</td>\n",
       "      <td>0</td>\n",
       "      <td>0</td>\n",
       "    </tr>\n",
       "    <tr>\n",
       "      <th>1</th>\n",
       "      <td>000c3a3f293f.png</td>\n",
       "      <td>NaN</td>\n",
       "      <td>none 1 0 0 1 1</td>\n",
       "      <td>ff0879eb20ed</td>\n",
       "      <td>1</td>\n",
       "      <td>0</td>\n",
       "      <td>0</td>\n",
       "      <td>0</td>\n",
       "    </tr>\n",
       "    <tr>\n",
       "      <th>2</th>\n",
       "      <td>0012ff7358bc.png</td>\n",
       "      <td>[{'x': 677.42216, 'y': 197.97662, 'width': 867...</td>\n",
       "      <td>opacity 1 677.42216 197.97662 1545.21983 1197....</td>\n",
       "      <td>9d514ce429a7</td>\n",
       "      <td>0</td>\n",
       "      <td>1</td>\n",
       "      <td>0</td>\n",
       "      <td>0</td>\n",
       "    </tr>\n",
       "    <tr>\n",
       "      <th>3</th>\n",
       "      <td>001398f4ff4f.png</td>\n",
       "      <td>[{'x': 2729, 'y': 2181.33331, 'width': 948.000...</td>\n",
       "      <td>opacity 1 2729 2181.33331 3677.00012 2785.33331</td>\n",
       "      <td>28dddc8559b2</td>\n",
       "      <td>0</td>\n",
       "      <td>0</td>\n",
       "      <td>0</td>\n",
       "      <td>1</td>\n",
       "    </tr>\n",
       "    <tr>\n",
       "      <th>4</th>\n",
       "      <td>001bd15d1891.png</td>\n",
       "      <td>[{'x': 623.23328, 'y': 1050, 'width': 714, 'he...</td>\n",
       "      <td>opacity 1 623.23328 1050 1337.23328 2156 opaci...</td>\n",
       "      <td>dfd9fdd85a3e</td>\n",
       "      <td>0</td>\n",
       "      <td>1</td>\n",
       "      <td>0</td>\n",
       "      <td>0</td>\n",
       "    </tr>\n",
       "  </tbody>\n",
       "</table>\n",
       "</div>"
      ],
      "text/plain": [
       "                 id                                              boxes  \\\n",
       "0  000a312787f2.png  [{'x': 789.28836, 'y': 582.43035, 'width': 102...   \n",
       "1  000c3a3f293f.png                                                NaN   \n",
       "2  0012ff7358bc.png  [{'x': 677.42216, 'y': 197.97662, 'width': 867...   \n",
       "3  001398f4ff4f.png  [{'x': 2729, 'y': 2181.33331, 'width': 948.000...   \n",
       "4  001bd15d1891.png  [{'x': 623.23328, 'y': 1050, 'width': 714, 'he...   \n",
       "\n",
       "                                               label StudyInstanceUID  \\\n",
       "0  opacity 1 789.28836 582.43035 1815.94498 2499....     5776db0cec75   \n",
       "1                                     none 1 0 0 1 1     ff0879eb20ed   \n",
       "2  opacity 1 677.42216 197.97662 1545.21983 1197....     9d514ce429a7   \n",
       "3    opacity 1 2729 2181.33331 3677.00012 2785.33331     28dddc8559b2   \n",
       "4  opacity 1 623.23328 1050 1337.23328 2156 opaci...     dfd9fdd85a3e   \n",
       "\n",
       "   Negative for Pneumonia  Typical Appearance  Indeterminate Appearance  \\\n",
       "0                       0                   1                         0   \n",
       "1                       1                   0                         0   \n",
       "2                       0                   1                         0   \n",
       "3                       0                   0                         0   \n",
       "4                       0                   1                         0   \n",
       "\n",
       "   Atypical Appearance  \n",
       "0                    0  \n",
       "1                    0  \n",
       "2                    0  \n",
       "3                    1  \n",
       "4                    0  "
      ]
     },
     "execution_count": 11,
     "metadata": {},
     "output_type": "execute_result"
    }
   ],
   "source": [
    "merged = pd.merge(train_image_level, train_study_level, on='StudyInstanceUID')\n",
    "merged.head()"
   ]
  },
  {
   "cell_type": "markdown",
   "id": "5b812fe9",
   "metadata": {},
   "source": [
    "## Adicionar uma classe para armazenar as classificações das imagens"
   ]
  },
  {
   "cell_type": "code",
   "execution_count": 12,
   "id": "38cb64b8",
   "metadata": {},
   "outputs": [
    {
     "data": {
      "text/html": [
       "<div>\n",
       "<style scoped>\n",
       "    .dataframe tbody tr th:only-of-type {\n",
       "        vertical-align: middle;\n",
       "    }\n",
       "\n",
       "    .dataframe tbody tr th {\n",
       "        vertical-align: top;\n",
       "    }\n",
       "\n",
       "    .dataframe thead th {\n",
       "        text-align: right;\n",
       "    }\n",
       "</style>\n",
       "<table border=\"1\" class=\"dataframe\">\n",
       "  <thead>\n",
       "    <tr style=\"text-align: right;\">\n",
       "      <th></th>\n",
       "      <th>id</th>\n",
       "      <th>boxes</th>\n",
       "      <th>label</th>\n",
       "      <th>StudyInstanceUID</th>\n",
       "      <th>Negative for Pneumonia</th>\n",
       "      <th>Typical Appearance</th>\n",
       "      <th>Indeterminate Appearance</th>\n",
       "      <th>Atypical Appearance</th>\n",
       "      <th>class</th>\n",
       "    </tr>\n",
       "  </thead>\n",
       "  <tbody>\n",
       "    <tr>\n",
       "      <th>0</th>\n",
       "      <td>000a312787f2.png</td>\n",
       "      <td>[{'x': 789.28836, 'y': 582.43035, 'width': 102...</td>\n",
       "      <td>opacity 1 789.28836 582.43035 1815.94498 2499....</td>\n",
       "      <td>5776db0cec75</td>\n",
       "      <td>0</td>\n",
       "      <td>1</td>\n",
       "      <td>0</td>\n",
       "      <td>0</td>\n",
       "      <td>default value</td>\n",
       "    </tr>\n",
       "    <tr>\n",
       "      <th>1</th>\n",
       "      <td>000c3a3f293f.png</td>\n",
       "      <td>NaN</td>\n",
       "      <td>none 1 0 0 1 1</td>\n",
       "      <td>ff0879eb20ed</td>\n",
       "      <td>1</td>\n",
       "      <td>0</td>\n",
       "      <td>0</td>\n",
       "      <td>0</td>\n",
       "      <td>default value</td>\n",
       "    </tr>\n",
       "    <tr>\n",
       "      <th>2</th>\n",
       "      <td>0012ff7358bc.png</td>\n",
       "      <td>[{'x': 677.42216, 'y': 197.97662, 'width': 867...</td>\n",
       "      <td>opacity 1 677.42216 197.97662 1545.21983 1197....</td>\n",
       "      <td>9d514ce429a7</td>\n",
       "      <td>0</td>\n",
       "      <td>1</td>\n",
       "      <td>0</td>\n",
       "      <td>0</td>\n",
       "      <td>default value</td>\n",
       "    </tr>\n",
       "    <tr>\n",
       "      <th>3</th>\n",
       "      <td>001398f4ff4f.png</td>\n",
       "      <td>[{'x': 2729, 'y': 2181.33331, 'width': 948.000...</td>\n",
       "      <td>opacity 1 2729 2181.33331 3677.00012 2785.33331</td>\n",
       "      <td>28dddc8559b2</td>\n",
       "      <td>0</td>\n",
       "      <td>0</td>\n",
       "      <td>0</td>\n",
       "      <td>1</td>\n",
       "      <td>default value</td>\n",
       "    </tr>\n",
       "    <tr>\n",
       "      <th>4</th>\n",
       "      <td>001bd15d1891.png</td>\n",
       "      <td>[{'x': 623.23328, 'y': 1050, 'width': 714, 'he...</td>\n",
       "      <td>opacity 1 623.23328 1050 1337.23328 2156 opaci...</td>\n",
       "      <td>dfd9fdd85a3e</td>\n",
       "      <td>0</td>\n",
       "      <td>1</td>\n",
       "      <td>0</td>\n",
       "      <td>0</td>\n",
       "      <td>default value</td>\n",
       "    </tr>\n",
       "  </tbody>\n",
       "</table>\n",
       "</div>"
      ],
      "text/plain": [
       "                 id                                              boxes  \\\n",
       "0  000a312787f2.png  [{'x': 789.28836, 'y': 582.43035, 'width': 102...   \n",
       "1  000c3a3f293f.png                                                NaN   \n",
       "2  0012ff7358bc.png  [{'x': 677.42216, 'y': 197.97662, 'width': 867...   \n",
       "3  001398f4ff4f.png  [{'x': 2729, 'y': 2181.33331, 'width': 948.000...   \n",
       "4  001bd15d1891.png  [{'x': 623.23328, 'y': 1050, 'width': 714, 'he...   \n",
       "\n",
       "                                               label StudyInstanceUID  \\\n",
       "0  opacity 1 789.28836 582.43035 1815.94498 2499....     5776db0cec75   \n",
       "1                                     none 1 0 0 1 1     ff0879eb20ed   \n",
       "2  opacity 1 677.42216 197.97662 1545.21983 1197....     9d514ce429a7   \n",
       "3    opacity 1 2729 2181.33331 3677.00012 2785.33331     28dddc8559b2   \n",
       "4  opacity 1 623.23328 1050 1337.23328 2156 opaci...     dfd9fdd85a3e   \n",
       "\n",
       "   Negative for Pneumonia  Typical Appearance  Indeterminate Appearance  \\\n",
       "0                       0                   1                         0   \n",
       "1                       1                   0                         0   \n",
       "2                       0                   1                         0   \n",
       "3                       0                   0                         0   \n",
       "4                       0                   1                         0   \n",
       "\n",
       "   Atypical Appearance          class  \n",
       "0                    0  default value  \n",
       "1                    0  default value  \n",
       "2                    0  default value  \n",
       "3                    1  default value  \n",
       "4                    0  default value  "
      ]
     },
     "execution_count": 12,
     "metadata": {},
     "output_type": "execute_result"
    }
   ],
   "source": [
    "merged['class'] = 'default value'\n",
    "merged.head()"
   ]
  },
  {
   "cell_type": "markdown",
   "id": "d3adc417",
   "metadata": {},
   "source": [
    "Caso a imagem seja classificada como:\n",
    "- 'Negative for Pneumonia == 1' - é atribuída a classe normal;\n",
    "- 'Typical Appearance == 1' - é atribuída a classe COVID 19;\n",
    "- 'Atypical Appearance == 1' - é atribuída a classe pneumonia;\n",
    "- 'Indeterminate Appearance == 1' - é atribuída a classe indeterminado."
   ]
  },
  {
   "cell_type": "code",
   "execution_count": 13,
   "id": "4682a37d",
   "metadata": {},
   "outputs": [
    {
     "name": "stderr",
     "output_type": "stream",
     "text": [
      "<ipython-input-13-88c80ca45f9e>:5: SettingWithCopyWarning: \n",
      "A value is trying to be set on a copy of a slice from a DataFrame\n",
      "\n",
      "See the caveats in the documentation: https://pandas.pydata.org/pandas-docs/stable/user_guide/indexing.html#returning-a-view-versus-a-copy\n",
      "  merged[\"class\"][i] = 'COVID-19'\n",
      "<ipython-input-13-88c80ca45f9e>:3: SettingWithCopyWarning: \n",
      "A value is trying to be set on a copy of a slice from a DataFrame\n",
      "\n",
      "See the caveats in the documentation: https://pandas.pydata.org/pandas-docs/stable/user_guide/indexing.html#returning-a-view-versus-a-copy\n",
      "  merged[\"class\"][i] = 'normal'\n",
      "<ipython-input-13-88c80ca45f9e>:7: SettingWithCopyWarning: \n",
      "A value is trying to be set on a copy of a slice from a DataFrame\n",
      "\n",
      "See the caveats in the documentation: https://pandas.pydata.org/pandas-docs/stable/user_guide/indexing.html#returning-a-view-versus-a-copy\n",
      "  merged[\"class\"][i] = 'pneumonia'\n",
      "<ipython-input-13-88c80ca45f9e>:9: SettingWithCopyWarning: \n",
      "A value is trying to be set on a copy of a slice from a DataFrame\n",
      "\n",
      "See the caveats in the documentation: https://pandas.pydata.org/pandas-docs/stable/user_guide/indexing.html#returning-a-view-versus-a-copy\n",
      "  merged[\"class\"][i] = 'indeterminado'\n"
     ]
    }
   ],
   "source": [
    "for (i,row) in merged.iterrows():\n",
    "  if row[\"Negative for Pneumonia\"] == 1:\n",
    "    merged[\"class\"][i] = 'normal'\n",
    "  elif row[\"Typical Appearance\"] == 1:\n",
    "    merged[\"class\"][i] = 'COVID-19'\n",
    "  elif row[\"Atypical Appearance\"] == 1:\n",
    "    merged[\"class\"][i] = 'pneumonia'\n",
    "  else:\n",
    "    merged[\"class\"][i] = 'indeterminado'"
   ]
  },
  {
   "cell_type": "code",
   "execution_count": 14,
   "id": "0c6eef84",
   "metadata": {},
   "outputs": [
    {
     "data": {
      "text/html": [
       "<div>\n",
       "<style scoped>\n",
       "    .dataframe tbody tr th:only-of-type {\n",
       "        vertical-align: middle;\n",
       "    }\n",
       "\n",
       "    .dataframe tbody tr th {\n",
       "        vertical-align: top;\n",
       "    }\n",
       "\n",
       "    .dataframe thead th {\n",
       "        text-align: right;\n",
       "    }\n",
       "</style>\n",
       "<table border=\"1\" class=\"dataframe\">\n",
       "  <thead>\n",
       "    <tr style=\"text-align: right;\">\n",
       "      <th></th>\n",
       "      <th>id</th>\n",
       "      <th>boxes</th>\n",
       "      <th>label</th>\n",
       "      <th>StudyInstanceUID</th>\n",
       "      <th>Negative for Pneumonia</th>\n",
       "      <th>Typical Appearance</th>\n",
       "      <th>Indeterminate Appearance</th>\n",
       "      <th>Atypical Appearance</th>\n",
       "      <th>class</th>\n",
       "    </tr>\n",
       "  </thead>\n",
       "  <tbody>\n",
       "    <tr>\n",
       "      <th>6329</th>\n",
       "      <td>ffcc6edd9445.png</td>\n",
       "      <td>NaN</td>\n",
       "      <td>none 1 0 0 1 1</td>\n",
       "      <td>7e6c68462e06</td>\n",
       "      <td>1</td>\n",
       "      <td>0</td>\n",
       "      <td>0</td>\n",
       "      <td>0</td>\n",
       "      <td>normal</td>\n",
       "    </tr>\n",
       "    <tr>\n",
       "      <th>6330</th>\n",
       "      <td>ffd91a2c4ca0.png</td>\n",
       "      <td>NaN</td>\n",
       "      <td>none 1 0 0 1 1</td>\n",
       "      <td>8332bdaddb6e</td>\n",
       "      <td>1</td>\n",
       "      <td>0</td>\n",
       "      <td>0</td>\n",
       "      <td>0</td>\n",
       "      <td>normal</td>\n",
       "    </tr>\n",
       "    <tr>\n",
       "      <th>6331</th>\n",
       "      <td>ffd9b6cf2961.png</td>\n",
       "      <td>[{'x': 2197.38566, 'y': 841.07361, 'width': 31...</td>\n",
       "      <td>opacity 1 2197.38566 841.07361 2513.80265 1292...</td>\n",
       "      <td>7eed9af03814</td>\n",
       "      <td>0</td>\n",
       "      <td>1</td>\n",
       "      <td>0</td>\n",
       "      <td>0</td>\n",
       "      <td>COVID-19</td>\n",
       "    </tr>\n",
       "    <tr>\n",
       "      <th>6332</th>\n",
       "      <td>ffdc682f7680.png</td>\n",
       "      <td>[{'x': 2729.27083, 'y': 332.26044, 'width': 14...</td>\n",
       "      <td>opacity 1 2729.27083 332.26044 4225.52099 2936...</td>\n",
       "      <td>a0cb0b96fb3d</td>\n",
       "      <td>0</td>\n",
       "      <td>1</td>\n",
       "      <td>0</td>\n",
       "      <td>0</td>\n",
       "      <td>COVID-19</td>\n",
       "    </tr>\n",
       "    <tr>\n",
       "      <th>6333</th>\n",
       "      <td>ffe942c8655f.png</td>\n",
       "      <td>[{'x': 208.86463, 'y': 91.53448, 'width': 450....</td>\n",
       "      <td>opacity 1 208.86463 91.53448 659.8321 719.5892...</td>\n",
       "      <td>7d82d53204b8</td>\n",
       "      <td>0</td>\n",
       "      <td>1</td>\n",
       "      <td>0</td>\n",
       "      <td>0</td>\n",
       "      <td>COVID-19</td>\n",
       "    </tr>\n",
       "  </tbody>\n",
       "</table>\n",
       "</div>"
      ],
      "text/plain": [
       "                    id                                              boxes  \\\n",
       "6329  ffcc6edd9445.png                                                NaN   \n",
       "6330  ffd91a2c4ca0.png                                                NaN   \n",
       "6331  ffd9b6cf2961.png  [{'x': 2197.38566, 'y': 841.07361, 'width': 31...   \n",
       "6332  ffdc682f7680.png  [{'x': 2729.27083, 'y': 332.26044, 'width': 14...   \n",
       "6333  ffe942c8655f.png  [{'x': 208.86463, 'y': 91.53448, 'width': 450....   \n",
       "\n",
       "                                                  label StudyInstanceUID  \\\n",
       "6329                                     none 1 0 0 1 1     7e6c68462e06   \n",
       "6330                                     none 1 0 0 1 1     8332bdaddb6e   \n",
       "6331  opacity 1 2197.38566 841.07361 2513.80265 1292...     7eed9af03814   \n",
       "6332  opacity 1 2729.27083 332.26044 4225.52099 2936...     a0cb0b96fb3d   \n",
       "6333  opacity 1 208.86463 91.53448 659.8321 719.5892...     7d82d53204b8   \n",
       "\n",
       "      Negative for Pneumonia  Typical Appearance  Indeterminate Appearance  \\\n",
       "6329                       1                   0                         0   \n",
       "6330                       1                   0                         0   \n",
       "6331                       0                   1                         0   \n",
       "6332                       0                   1                         0   \n",
       "6333                       0                   1                         0   \n",
       "\n",
       "      Atypical Appearance     class  \n",
       "6329                    0    normal  \n",
       "6330                    0    normal  \n",
       "6331                    0  COVID-19  \n",
       "6332                    0  COVID-19  \n",
       "6333                    0  COVID-19  "
      ]
     },
     "execution_count": 14,
     "metadata": {},
     "output_type": "execute_result"
    }
   ],
   "source": [
    "merged.tail()"
   ]
  },
  {
   "cell_type": "markdown",
   "id": "4c66decc",
   "metadata": {},
   "source": [
    "Contando os valores de cada Classe"
   ]
  },
  {
   "cell_type": "code",
   "execution_count": 15,
   "id": "d6d1c038",
   "metadata": {},
   "outputs": [
    {
     "data": {
      "text/plain": [
       "COVID-19         3007\n",
       "normal           1736\n",
       "indeterminado    1108\n",
       "pneumonia         483\n",
       "Name: class, dtype: int64"
      ]
     },
     "execution_count": 15,
     "metadata": {},
     "output_type": "execute_result"
    }
   ],
   "source": [
    "merged['class'].value_counts()"
   ]
  },
  {
   "cell_type": "markdown",
   "id": "753c987d",
   "metadata": {},
   "source": [
    "Eliminando as colunas desnecessárias do dataframe"
   ]
  },
  {
   "cell_type": "code",
   "execution_count": 16,
   "id": "864ab3ee",
   "metadata": {},
   "outputs": [],
   "source": [
    "merged.drop('boxes', axis=1, inplace=True)\n",
    "merged.drop('label', axis=1, inplace=True)\n",
    "merged.drop('StudyInstanceUID', axis=1, inplace=True)\n",
    "merged.drop('Negative for Pneumonia', axis=1, inplace=True)\n",
    "merged.drop('Typical Appearance', axis=1, inplace=True)\n",
    "merged.drop('Indeterminate Appearance', axis=1, inplace=True)\n",
    "merged.drop('Atypical Appearance', axis=1, inplace=True)"
   ]
  },
  {
   "cell_type": "code",
   "execution_count": 17,
   "id": "03a77644",
   "metadata": {},
   "outputs": [
    {
     "data": {
      "text/html": [
       "<div>\n",
       "<style scoped>\n",
       "    .dataframe tbody tr th:only-of-type {\n",
       "        vertical-align: middle;\n",
       "    }\n",
       "\n",
       "    .dataframe tbody tr th {\n",
       "        vertical-align: top;\n",
       "    }\n",
       "\n",
       "    .dataframe thead th {\n",
       "        text-align: right;\n",
       "    }\n",
       "</style>\n",
       "<table border=\"1\" class=\"dataframe\">\n",
       "  <thead>\n",
       "    <tr style=\"text-align: right;\">\n",
       "      <th></th>\n",
       "      <th>id</th>\n",
       "      <th>class</th>\n",
       "    </tr>\n",
       "  </thead>\n",
       "  <tbody>\n",
       "    <tr>\n",
       "      <th>0</th>\n",
       "      <td>000a312787f2.png</td>\n",
       "      <td>COVID-19</td>\n",
       "    </tr>\n",
       "    <tr>\n",
       "      <th>1</th>\n",
       "      <td>000c3a3f293f.png</td>\n",
       "      <td>normal</td>\n",
       "    </tr>\n",
       "    <tr>\n",
       "      <th>2</th>\n",
       "      <td>0012ff7358bc.png</td>\n",
       "      <td>COVID-19</td>\n",
       "    </tr>\n",
       "    <tr>\n",
       "      <th>3</th>\n",
       "      <td>001398f4ff4f.png</td>\n",
       "      <td>pneumonia</td>\n",
       "    </tr>\n",
       "    <tr>\n",
       "      <th>4</th>\n",
       "      <td>001bd15d1891.png</td>\n",
       "      <td>COVID-19</td>\n",
       "    </tr>\n",
       "  </tbody>\n",
       "</table>\n",
       "</div>"
      ],
      "text/plain": [
       "                 id      class\n",
       "0  000a312787f2.png   COVID-19\n",
       "1  000c3a3f293f.png     normal\n",
       "2  0012ff7358bc.png   COVID-19\n",
       "3  001398f4ff4f.png  pneumonia\n",
       "4  001bd15d1891.png   COVID-19"
      ]
     },
     "execution_count": 17,
     "metadata": {},
     "output_type": "execute_result"
    }
   ],
   "source": [
    "merged.head()"
   ]
  },
  {
   "cell_type": "markdown",
   "id": "ae7a38af",
   "metadata": {},
   "source": [
    "Com isso, temos um dataframe contendo as informações do id da imagem e a sua classificação."
   ]
  },
  {
   "cell_type": "code",
   "execution_count": 18,
   "id": "9fecab7d",
   "metadata": {},
   "outputs": [],
   "source": [
    "merged.to_csv('metadata_ind.csv', header=False, index=True)"
   ]
  },
  {
   "cell_type": "markdown",
   "id": "4f5945a2",
   "metadata": {},
   "source": [
    "É removido as imagens classificadas como \"indeterminadas\""
   ]
  },
  {
   "cell_type": "code",
   "execution_count": 19,
   "id": "fd423b78",
   "metadata": {},
   "outputs": [],
   "source": [
    "final_df = merged.drop(merged[merged['class'] ==  'indeterminado'].index)"
   ]
  },
  {
   "cell_type": "code",
   "execution_count": 20,
   "id": "161412d2",
   "metadata": {},
   "outputs": [
    {
     "data": {
      "text/plain": [
       "COVID-19     3007\n",
       "normal       1736\n",
       "pneumonia     483\n",
       "Name: class, dtype: int64"
      ]
     },
     "execution_count": 20,
     "metadata": {},
     "output_type": "execute_result"
    }
   ],
   "source": [
    "final_df['class'].value_counts()"
   ]
  },
  {
   "cell_type": "markdown",
   "id": "2399c5bf",
   "metadata": {},
   "source": [
    "Por fim, o dataframe final é salvo como arquivo csv para ser utilizado na etapa de treinamento do modelo"
   ]
  },
  {
   "cell_type": "code",
   "execution_count": 21,
   "id": "30bc9ed4",
   "metadata": {},
   "outputs": [],
   "source": [
    "final_df.to_csv('metadata.csv', header=False, index=True)"
   ]
  },
  {
   "cell_type": "markdown",
   "id": "4bf8fda0",
   "metadata": {},
   "source": [
    "# Dividindo o dataframe em treino e teste¶\n"
   ]
  },
  {
   "cell_type": "code",
   "execution_count": 22,
   "id": "7e37bf46",
   "metadata": {},
   "outputs": [],
   "source": [
    "from sklearn.model_selection import train_test_split"
   ]
  },
  {
   "cell_type": "markdown",
   "id": "ab4f3221",
   "metadata": {},
   "source": [
    "Lendo o dataset gerado na etapa passada"
   ]
  },
  {
   "cell_type": "code",
   "execution_count": 23,
   "id": "ff7c3211",
   "metadata": {},
   "outputs": [],
   "source": [
    "df = pd.read_csv('metadata.csv', header=None)"
   ]
  },
  {
   "cell_type": "code",
   "execution_count": 24,
   "id": "b52f7964",
   "metadata": {},
   "outputs": [
    {
     "data": {
      "text/html": [
       "<div>\n",
       "<style scoped>\n",
       "    .dataframe tbody tr th:only-of-type {\n",
       "        vertical-align: middle;\n",
       "    }\n",
       "\n",
       "    .dataframe tbody tr th {\n",
       "        vertical-align: top;\n",
       "    }\n",
       "\n",
       "    .dataframe thead th {\n",
       "        text-align: right;\n",
       "    }\n",
       "</style>\n",
       "<table border=\"1\" class=\"dataframe\">\n",
       "  <thead>\n",
       "    <tr style=\"text-align: right;\">\n",
       "      <th></th>\n",
       "      <th>0</th>\n",
       "      <th>1</th>\n",
       "      <th>2</th>\n",
       "    </tr>\n",
       "  </thead>\n",
       "  <tbody>\n",
       "    <tr>\n",
       "      <th>0</th>\n",
       "      <td>0</td>\n",
       "      <td>000a312787f2.png</td>\n",
       "      <td>COVID-19</td>\n",
       "    </tr>\n",
       "    <tr>\n",
       "      <th>1</th>\n",
       "      <td>1</td>\n",
       "      <td>000c3a3f293f.png</td>\n",
       "      <td>normal</td>\n",
       "    </tr>\n",
       "    <tr>\n",
       "      <th>2</th>\n",
       "      <td>2</td>\n",
       "      <td>0012ff7358bc.png</td>\n",
       "      <td>COVID-19</td>\n",
       "    </tr>\n",
       "    <tr>\n",
       "      <th>3</th>\n",
       "      <td>3</td>\n",
       "      <td>001398f4ff4f.png</td>\n",
       "      <td>pneumonia</td>\n",
       "    </tr>\n",
       "    <tr>\n",
       "      <th>4</th>\n",
       "      <td>4</td>\n",
       "      <td>001bd15d1891.png</td>\n",
       "      <td>COVID-19</td>\n",
       "    </tr>\n",
       "  </tbody>\n",
       "</table>\n",
       "</div>"
      ],
      "text/plain": [
       "   0                 1          2\n",
       "0  0  000a312787f2.png   COVID-19\n",
       "1  1  000c3a3f293f.png     normal\n",
       "2  2  0012ff7358bc.png   COVID-19\n",
       "3  3  001398f4ff4f.png  pneumonia\n",
       "4  4  001bd15d1891.png   COVID-19"
      ]
     },
     "execution_count": 24,
     "metadata": {},
     "output_type": "execute_result"
    }
   ],
   "source": [
    "df.head()"
   ]
  },
  {
   "cell_type": "code",
   "execution_count": 25,
   "id": "8352433d",
   "metadata": {},
   "outputs": [],
   "source": [
    "train, test = train_test_split(df, test_size=0.1, random_state=42, shuffle=True)"
   ]
  },
  {
   "cell_type": "code",
   "execution_count": 26,
   "id": "ebddbf17",
   "metadata": {},
   "outputs": [
    {
     "data": {
      "text/html": [
       "<div>\n",
       "<style scoped>\n",
       "    .dataframe tbody tr th:only-of-type {\n",
       "        vertical-align: middle;\n",
       "    }\n",
       "\n",
       "    .dataframe tbody tr th {\n",
       "        vertical-align: top;\n",
       "    }\n",
       "\n",
       "    .dataframe thead th {\n",
       "        text-align: right;\n",
       "    }\n",
       "</style>\n",
       "<table border=\"1\" class=\"dataframe\">\n",
       "  <thead>\n",
       "    <tr style=\"text-align: right;\">\n",
       "      <th></th>\n",
       "      <th>0</th>\n",
       "      <th>1</th>\n",
       "      <th>2</th>\n",
       "    </tr>\n",
       "  </thead>\n",
       "  <tbody>\n",
       "    <tr>\n",
       "      <th>1038</th>\n",
       "      <td>1279</td>\n",
       "      <td>302436633ec0.png</td>\n",
       "      <td>normal</td>\n",
       "    </tr>\n",
       "    <tr>\n",
       "      <th>655</th>\n",
       "      <td>796</td>\n",
       "      <td>1d96a1349a36.png</td>\n",
       "      <td>pneumonia</td>\n",
       "    </tr>\n",
       "    <tr>\n",
       "      <th>4876</th>\n",
       "      <td>5900</td>\n",
       "      <td>ecd66bcdc651.png</td>\n",
       "      <td>pneumonia</td>\n",
       "    </tr>\n",
       "    <tr>\n",
       "      <th>1609</th>\n",
       "      <td>1967</td>\n",
       "      <td>4b594699ffb2.png</td>\n",
       "      <td>normal</td>\n",
       "    </tr>\n",
       "    <tr>\n",
       "      <th>4112</th>\n",
       "      <td>4970</td>\n",
       "      <td>c5b4731a60bb.png</td>\n",
       "      <td>normal</td>\n",
       "    </tr>\n",
       "  </tbody>\n",
       "</table>\n",
       "</div>"
      ],
      "text/plain": [
       "         0                 1          2\n",
       "1038  1279  302436633ec0.png     normal\n",
       "655    796  1d96a1349a36.png  pneumonia\n",
       "4876  5900  ecd66bcdc651.png  pneumonia\n",
       "1609  1967  4b594699ffb2.png     normal\n",
       "4112  4970  c5b4731a60bb.png     normal"
      ]
     },
     "execution_count": 26,
     "metadata": {},
     "output_type": "execute_result"
    }
   ],
   "source": [
    "train.head()"
   ]
  },
  {
   "cell_type": "code",
   "execution_count": 27,
   "id": "80a1069a",
   "metadata": {},
   "outputs": [
    {
     "data": {
      "text/plain": [
       "COVID-19     2712\n",
       "normal       1558\n",
       "pneumonia     433\n",
       "Name: 2, dtype: int64"
      ]
     },
     "execution_count": 27,
     "metadata": {},
     "output_type": "execute_result"
    }
   ],
   "source": [
    "train[2].value_counts()"
   ]
  },
  {
   "cell_type": "code",
   "execution_count": 28,
   "id": "03a1f79e",
   "metadata": {},
   "outputs": [
    {
     "data": {
      "text/html": [
       "<div>\n",
       "<style scoped>\n",
       "    .dataframe tbody tr th:only-of-type {\n",
       "        vertical-align: middle;\n",
       "    }\n",
       "\n",
       "    .dataframe tbody tr th {\n",
       "        vertical-align: top;\n",
       "    }\n",
       "\n",
       "    .dataframe thead th {\n",
       "        text-align: right;\n",
       "    }\n",
       "</style>\n",
       "<table border=\"1\" class=\"dataframe\">\n",
       "  <thead>\n",
       "    <tr style=\"text-align: right;\">\n",
       "      <th></th>\n",
       "      <th>0</th>\n",
       "      <th>1</th>\n",
       "      <th>2</th>\n",
       "    </tr>\n",
       "  </thead>\n",
       "  <tbody>\n",
       "    <tr>\n",
       "      <th>422</th>\n",
       "      <td>500</td>\n",
       "      <td>11b670d7c7a9.png</td>\n",
       "      <td>COVID-19</td>\n",
       "    </tr>\n",
       "    <tr>\n",
       "      <th>3231</th>\n",
       "      <td>3902</td>\n",
       "      <td>987e5110e681.png</td>\n",
       "      <td>COVID-19</td>\n",
       "    </tr>\n",
       "    <tr>\n",
       "      <th>23</th>\n",
       "      <td>25</td>\n",
       "      <td>00e3a7e91a34.png</td>\n",
       "      <td>normal</td>\n",
       "    </tr>\n",
       "    <tr>\n",
       "      <th>4036</th>\n",
       "      <td>4881</td>\n",
       "      <td>c2221c57b881.png</td>\n",
       "      <td>normal</td>\n",
       "    </tr>\n",
       "    <tr>\n",
       "      <th>1957</th>\n",
       "      <td>2387</td>\n",
       "      <td>5b1e5fabcb5d.png</td>\n",
       "      <td>COVID-19</td>\n",
       "    </tr>\n",
       "  </tbody>\n",
       "</table>\n",
       "</div>"
      ],
      "text/plain": [
       "         0                 1         2\n",
       "422    500  11b670d7c7a9.png  COVID-19\n",
       "3231  3902  987e5110e681.png  COVID-19\n",
       "23      25  00e3a7e91a34.png    normal\n",
       "4036  4881  c2221c57b881.png    normal\n",
       "1957  2387  5b1e5fabcb5d.png  COVID-19"
      ]
     },
     "execution_count": 28,
     "metadata": {},
     "output_type": "execute_result"
    }
   ],
   "source": [
    "test.head()"
   ]
  },
  {
   "cell_type": "code",
   "execution_count": 29,
   "id": "64b9af5f",
   "metadata": {},
   "outputs": [
    {
     "data": {
      "text/plain": [
       "COVID-19     295\n",
       "normal       178\n",
       "pneumonia     50\n",
       "Name: 2, dtype: int64"
      ]
     },
     "execution_count": 29,
     "metadata": {},
     "output_type": "execute_result"
    }
   ],
   "source": [
    "test[2].value_counts()"
   ]
  },
  {
   "cell_type": "markdown",
   "id": "73990f53",
   "metadata": {},
   "source": [
    "Salvando os dataframes de teste e de treino em csv e txt"
   ]
  },
  {
   "cell_type": "code",
   "execution_count": 30,
   "id": "17c35bd1",
   "metadata": {},
   "outputs": [],
   "source": [
    "train.to_csv('train_metadata.csv', header=False, index=False)\n",
    "test.to_csv('test_metadata.csv', header=False, index=False)"
   ]
  },
  {
   "cell_type": "code",
   "execution_count": 31,
   "id": "55763331",
   "metadata": {},
   "outputs": [],
   "source": [
    "train.to_csv('train_metadata.txt', header=False, index=False,sep=' ')\n",
    "test.to_csv('test_metadata.txt', header=False, index=False, sep=' ')"
   ]
  },
  {
   "cell_type": "markdown",
   "id": "4641889a",
   "metadata": {},
   "source": [
    "# Exemplo de Imagens do Dataset"
   ]
  },
  {
   "cell_type": "code",
   "execution_count": 32,
   "id": "dfdef195",
   "metadata": {},
   "outputs": [
    {
     "name": "stdout",
     "output_type": "stream",
     "text": [
      "Current working directory: \t /home/tarcisio/Downloads/data/train\n"
     ]
    }
   ],
   "source": [
    "os.chdir(\"/home/tarcisio/Downloads/data/train\")\n",
    "print(\"Current working directory: \\t\", os.getcwd())\n"
   ]
  },
  {
   "cell_type": "markdown",
   "id": "b3f75aca",
   "metadata": {},
   "source": [
    "### Imagem Normal"
   ]
  },
  {
   "cell_type": "code",
   "execution_count": 37,
   "id": "794c621b",
   "metadata": {},
   "outputs": [
    {
     "data": {
      "image/png": "[encoded data removed]",
      "text/plain": [
       "<Figure size 432x288 with 1 Axes>"
      ]
     },
     "metadata": {
      "needs_background": "light"
     },
     "output_type": "display_data"
    }
   ],
   "source": [
    "normal_image = cv2.imread(\"302436633ec0.png\")\n",
    "plt.figure(0)\n",
    "plt.imshow(normal_image)\n",
    "plt.show()"
   ]
  },
  {
   "cell_type": "markdown",
   "id": "3abbcdcc",
   "metadata": {},
   "source": [
    "### Imagem Covid"
   ]
  },
  {
   "cell_type": "code",
   "execution_count": 38,
   "id": "6f746e7b",
   "metadata": {},
   "outputs": [
    {
     "data": {
      "image/png": "[encoded data removed]",
      "text/plain": [
       "<Figure size 432x288 with 1 Axes>"
      ]
     },
     "metadata": {
      "needs_background": "light"
     },
     "output_type": "display_data"
    }
   ],
   "source": [
    "covid_image = cv2.imread(\"0012ff7358bc.png\")\n",
    "plt.figure(0)\n",
    "plt.imshow(covid_image)\n",
    "plt.show()"
   ]
  },
  {
   "cell_type": "markdown",
   "id": "331f3e57",
   "metadata": {},
   "source": [
    "### Imagem Pneumonia"
   ]
  },
  {
   "cell_type": "code",
   "execution_count": 39,
   "id": "9ab7f8ba",
   "metadata": {},
   "outputs": [
    {
     "data": {
      "image/png": "[encoded data removed]",
      "text/plain": [
       "<Figure size 432x288 with 1 Axes>"
      ]
     },
     "metadata": {
      "needs_background": "light"
     },
     "output_type": "display_data"
    }
   ],
   "source": [
    "pneumonia_image = cv2.imread(\"ecd66bcdc651.png\")\n",
    "plt.figure(0)\n",
    "plt.imshow(pneumonia_image)\n",
    "plt.show()"
   ]
  }
 ],
 "metadata": {
  "kernelspec": {
   "display_name": "dip_env",
   "language": "python",
   "name": "dip_env"
  },
  "language_info": {
   "codemirror_mode": {
    "name": "ipython",
    "version": 3
   },
   "file_extension": ".py",
   "mimetype": "text/x-python",
   "name": "python",
   "nbconvert_exporter": "python",
   "pygments_lexer": "ipython3",
   "version": "3.8.5"
  }
 },
 "nbformat": 4,
 "nbformat_minor": 5
}
